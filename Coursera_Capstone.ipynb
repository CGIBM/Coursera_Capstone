{
    "cells": [
        {
            "cell_type": "markdown",
            "metadata": {},
            "source": "# IBM Data Science Professional Certificate - Capstone Project"
        },
        {
            "cell_type": "markdown",
            "metadata": {},
            "source": "## 1. Introduction\n### 1.1 Background\nWhile a reduction in number has been observed over the last decades, car accidents are still counted in thousands in Switzerland in 2020. Because the direct and indirect consequences of such events (injuries, death, psychological damages, material damages, etc.) are sizeable, there is value in identifying what are the causes of the accidents so that adequate prevention measures can be put in place. Moreover, it would be valuable to society - not the least from a resource planning standpoint - to understand when accidents are most likely to occur, and respectively what outcome severity (light injuries, heavy injuries, fatal outcome) can be expected depending on when and under what circumstances the accident took place. Since 1992, the Swiss Federal Statistics Office (OFS) is collecting data on car accidents country-wide and making such information available to the public. This analysis will leverage this data. \n\n### 1.2 Problem\nThe objective is to explore a 1992-2019 dataset from the Swiss Federal Statistics Office (OFS) and determine what are the **key factors** that drive the **outcome** of an accident for the involved car(s)' passengers: light injuries, heavy injuries, fatal outcome. Additionally, the outcomes of this analysis can be used as a prescriptive tool to :\n(1) Have the appropriate medical emergency resources allocated for the times, locations and circumstances when accidents are most likely to occur, with a particular emphasis on the severe and life-threatening cases. \n(2) Design prevention measures based on those drivers identified as having the largest influence on accident outcomes. \n\n### 1.3 Interest\nBy being able to allocate medical emergency resources more efficiently and by being able to reduce injuries and deaths through prevention campaigns, society as a whole will reduce the economic impact of road hazards. This analysis is therefore aimed at decision-makers of the Swiss Confederation, notably those in charge of Transportation and Medical Affairs. Beyond economic considerations, there is also a moral value in ever-reducing the suffering and deaths of the thousands of people affected by road accidents. \n\n## 2. Data Sources and Cleaning\n### 2.1 Data Sources\nThe dataset used in this analysis was obtained from the website of the Swiss Federal Statistics Office (OFS). A data browser allows the user to select the dimensions and time range of interest, within the limits of the Office's data structure. No other data source was used. \n### 2.2 Data Cleaning\nData cleaning consisted first in the following basic steps :\n(1) Translating the labels from French to English. This was performed in Excel directly on the CSV file. \n(2) Shortening the labels, for easier coding purposes. This was performed in Excel directly on the CSV file. \n(3) Transforming the non-numerical classifiers into dummy variables usable by the Machine Learning model discussed below. This was performed in the Jupyter Notebook. \n\n\n\n### 2.3 Feature Selection\n\n\n## 3. Methodology\n### 3.1 Exploratory Data Analysis\n### 3.2 Machine Learning Approach\n\n## 4. Results\n\n## 5. Discussion of the Results\n\n## 6. Conclusion"
        },
        {
            "cell_type": "code",
            "execution_count": null,
            "metadata": {},
            "outputs": [],
            "source": "# Importing modules\n\nimport numpy as np # Numpy\nimport pandas as pd # Pandas\nfrom sklearn.tree import DecisionTreeClassifier # Scikit Learn\n"
        }
    ],
    "metadata": {
        "kernelspec": {
            "display_name": "Python 3.6",
            "language": "python",
            "name": "python3"
        },
        "language_info": {
            "codemirror_mode": {
                "name": "ipython",
                "version": 3
            },
            "file_extension": ".py",
            "mimetype": "text/x-python",
            "name": "python",
            "nbconvert_exporter": "python",
            "pygments_lexer": "ipython3",
            "version": "3.6.9"
        }
    },
    "nbformat": 4,
    "nbformat_minor": 1
}